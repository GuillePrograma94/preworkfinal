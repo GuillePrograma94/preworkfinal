{
  "cells": [
    {
      "attachments": {},
      "cell_type": "markdown",
      "id": "innocent-university",
      "metadata": {},
      "source": [
        "# Limpieza de bienes raíces\n",
        "\n",
        "Este es un conjunto de datos (dataset) reales que fue descargado usando técnicas de web scraping. La data contiene registros de **Fotocasa**, el cual es uno de los sitios más populares de bienes raíces en España. Por favor no hagas esto (web scraping) a no ser que sea para propósitos académicos.\n",
        "\n",
        "El dataset fue descargado hace algunos años por Henry Navarro y en ningún caso se obtuvo beneficio económico de ello.\n",
        "\n",
        "Contiene miles de datos de casas reales publicadas en la web www.fotocasa.com. Tu objetivo es extraer tanta información como sea posible con el conocimiento que tienes hasta ahora de ciencia de datos, por ejemplo ¿cuál es la casa más cara en todo el dataset?\n",
        "\n",
        "Empecemos precisamente con esa pregunta... ¡Buena suerte!"
      ]
    },
    {
      "attachments": {},
      "cell_type": "markdown",
      "id": "multiple-glass",
      "metadata": {},
      "source": [
        "#### Ejercicio 00. Lee el dataset assets/real_estate.csv e intenta visualizar la tabla (★☆☆)"
      ]
    },
    {
      "cell_type": "code",
      "execution_count": 1,
      "id": "frank-heath",
      "metadata": {},
      "outputs": [
        {
          "data": {
            "text/html": [
              "<div>\n",
              "<style scoped>\n",
              "    .dataframe tbody tr th:only-of-type {\n",
              "        vertical-align: middle;\n",
              "    }\n",
              "\n",
              "    .dataframe tbody tr th {\n",
              "        vertical-align: top;\n",
              "    }\n",
              "\n",
              "    .dataframe thead th {\n",
              "        text-align: right;\n",
              "    }\n",
              "</style>\n",
              "<table border=\"1\" class=\"dataframe\">\n",
              "  <thead>\n",
              "    <tr style=\"text-align: right;\">\n",
              "      <th></th>\n",
              "      <th>id_realEstates</th>\n",
              "      <th>isNew</th>\n",
              "      <th>realEstate_name</th>\n",
              "      <th>phone_realEstate</th>\n",
              "      <th>url_inmueble</th>\n",
              "      <th>rooms</th>\n",
              "      <th>bathrooms</th>\n",
              "      <th>surface</th>\n",
              "      <th>price</th>\n",
              "      <th>date</th>\n",
              "      <th>...</th>\n",
              "      <th>level4Id</th>\n",
              "      <th>level5Id</th>\n",
              "      <th>level6Id</th>\n",
              "      <th>level7Id</th>\n",
              "      <th>level8Id</th>\n",
              "      <th>accuracy</th>\n",
              "      <th>latitude</th>\n",
              "      <th>longitude</th>\n",
              "      <th>zipCode</th>\n",
              "      <th>customZone</th>\n",
              "    </tr>\n",
              "  </thead>\n",
              "  <tbody>\n",
              "    <tr>\n",
              "      <th>1</th>\n",
              "      <td>153771986</td>\n",
              "      <td>False</td>\n",
              "      <td>ferrari 57 inmobiliaria</td>\n",
              "      <td>912177526.0</td>\n",
              "      <td>https://www.fotocasa.es/es/comprar/vivienda/ma...</td>\n",
              "      <td>3.0</td>\n",
              "      <td>2.0</td>\n",
              "      <td>103.0</td>\n",
              "      <td>195000</td>\n",
              "      <td>2019-12-28T18:27:15.9975027Z</td>\n",
              "      <td>...</td>\n",
              "      <td>0</td>\n",
              "      <td>0</td>\n",
              "      <td>0</td>\n",
              "      <td>0</td>\n",
              "      <td>0</td>\n",
              "      <td>0</td>\n",
              "      <td>40,2948276786438</td>\n",
              "      <td>-3,44402412135624</td>\n",
              "      <td>NaN</td>\n",
              "      <td>NaN</td>\n",
              "    </tr>\n",
              "    <tr>\n",
              "      <th>2</th>\n",
              "      <td>153867863</td>\n",
              "      <td>False</td>\n",
              "      <td>tecnocasa fuenlabrada ferrocarril</td>\n",
              "      <td>916358736.0</td>\n",
              "      <td>https://www.fotocasa.es/es/comprar/vivienda/ma...</td>\n",
              "      <td>3.0</td>\n",
              "      <td>1.0</td>\n",
              "      <td>NaN</td>\n",
              "      <td>89000</td>\n",
              "      <td>2019-12-28T18:27:15.9975027Z</td>\n",
              "      <td>...</td>\n",
              "      <td>0</td>\n",
              "      <td>0</td>\n",
              "      <td>0</td>\n",
              "      <td>0</td>\n",
              "      <td>0</td>\n",
              "      <td>1</td>\n",
              "      <td>40,28674</td>\n",
              "      <td>-3,79351</td>\n",
              "      <td>NaN</td>\n",
              "      <td>NaN</td>\n",
              "    </tr>\n",
              "    <tr>\n",
              "      <th>3</th>\n",
              "      <td>153430440</td>\n",
              "      <td>False</td>\n",
              "      <td>look find boadilla</td>\n",
              "      <td>916350408.0</td>\n",
              "      <td>https://www.fotocasa.es/es/comprar/vivienda/ma...</td>\n",
              "      <td>2.0</td>\n",
              "      <td>2.0</td>\n",
              "      <td>99.0</td>\n",
              "      <td>390000</td>\n",
              "      <td>2019-12-28T18:27:15.9975027Z</td>\n",
              "      <td>...</td>\n",
              "      <td>0</td>\n",
              "      <td>0</td>\n",
              "      <td>0</td>\n",
              "      <td>0</td>\n",
              "      <td>0</td>\n",
              "      <td>0</td>\n",
              "      <td>40,4115646786438</td>\n",
              "      <td>-3,90662252135624</td>\n",
              "      <td>NaN</td>\n",
              "      <td>NaN</td>\n",
              "    </tr>\n",
              "    <tr>\n",
              "      <th>4</th>\n",
              "      <td>152776331</td>\n",
              "      <td>False</td>\n",
              "      <td>tecnocasa fuenlabrada ferrocarril</td>\n",
              "      <td>916358736.0</td>\n",
              "      <td>https://www.fotocasa.es/es/comprar/vivienda/ma...</td>\n",
              "      <td>3.0</td>\n",
              "      <td>1.0</td>\n",
              "      <td>86.0</td>\n",
              "      <td>89000</td>\n",
              "      <td>2019-12-28T18:27:15.9975027Z</td>\n",
              "      <td>...</td>\n",
              "      <td>0</td>\n",
              "      <td>0</td>\n",
              "      <td>0</td>\n",
              "      <td>0</td>\n",
              "      <td>0</td>\n",
              "      <td>0</td>\n",
              "      <td>40,2853785786438</td>\n",
              "      <td>-3,79508142135624</td>\n",
              "      <td>NaN</td>\n",
              "      <td>NaN</td>\n",
              "    </tr>\n",
              "    <tr>\n",
              "      <th>5</th>\n",
              "      <td>153180188</td>\n",
              "      <td>False</td>\n",
              "      <td>ferrari 57 inmobiliaria</td>\n",
              "      <td>912177526.0</td>\n",
              "      <td>https://www.fotocasa.es/es/comprar/vivienda/ma...</td>\n",
              "      <td>2.0</td>\n",
              "      <td>2.0</td>\n",
              "      <td>106.0</td>\n",
              "      <td>172000</td>\n",
              "      <td>2019-12-28T18:27:15.9975027Z</td>\n",
              "      <td>...</td>\n",
              "      <td>0</td>\n",
              "      <td>0</td>\n",
              "      <td>0</td>\n",
              "      <td>0</td>\n",
              "      <td>0</td>\n",
              "      <td>0</td>\n",
              "      <td>40,2998774864376</td>\n",
              "      <td>-3,45226301356237</td>\n",
              "      <td>NaN</td>\n",
              "      <td>NaN</td>\n",
              "    </tr>\n",
              "    <tr>\n",
              "      <th>...</th>\n",
              "      <td>...</td>\n",
              "      <td>...</td>\n",
              "      <td>...</td>\n",
              "      <td>...</td>\n",
              "      <td>...</td>\n",
              "      <td>...</td>\n",
              "      <td>...</td>\n",
              "      <td>...</td>\n",
              "      <td>...</td>\n",
              "      <td>...</td>\n",
              "      <td>...</td>\n",
              "      <td>...</td>\n",
              "      <td>...</td>\n",
              "      <td>...</td>\n",
              "      <td>...</td>\n",
              "      <td>...</td>\n",
              "      <td>...</td>\n",
              "      <td>...</td>\n",
              "      <td>...</td>\n",
              "      <td>...</td>\n",
              "      <td>...</td>\n",
              "    </tr>\n",
              "    <tr>\n",
              "      <th>15331</th>\n",
              "      <td>153901377</td>\n",
              "      <td>False</td>\n",
              "      <td>infocasa consulting</td>\n",
              "      <td>911360461.0</td>\n",
              "      <td>https://www.fotocasa.es/es/comprar/vivienda/ma...</td>\n",
              "      <td>2.0</td>\n",
              "      <td>1.0</td>\n",
              "      <td>96.0</td>\n",
              "      <td>259470</td>\n",
              "      <td>2019-12-17T18:19:00Z</td>\n",
              "      <td>...</td>\n",
              "      <td>0</td>\n",
              "      <td>0</td>\n",
              "      <td>0</td>\n",
              "      <td>0</td>\n",
              "      <td>0</td>\n",
              "      <td>0</td>\n",
              "      <td>40,45416</td>\n",
              "      <td>-3,70286</td>\n",
              "      <td>NaN</td>\n",
              "      <td>NaN</td>\n",
              "    </tr>\n",
              "    <tr>\n",
              "      <th>15332</th>\n",
              "      <td>150394373</td>\n",
              "      <td>False</td>\n",
              "      <td>inmobiliaria pulpon</td>\n",
              "      <td>912788039.0</td>\n",
              "      <td>https://www.fotocasa.es/es/comprar/vivienda/ma...</td>\n",
              "      <td>3.0</td>\n",
              "      <td>1.0</td>\n",
              "      <td>150.0</td>\n",
              "      <td>165000</td>\n",
              "      <td>2019-12-17T18:19:00Z</td>\n",
              "      <td>...</td>\n",
              "      <td>0</td>\n",
              "      <td>0</td>\n",
              "      <td>0</td>\n",
              "      <td>0</td>\n",
              "      <td>0</td>\n",
              "      <td>0</td>\n",
              "      <td>40,36652</td>\n",
              "      <td>-3,48951</td>\n",
              "      <td>NaN</td>\n",
              "      <td>NaN</td>\n",
              "    </tr>\n",
              "    <tr>\n",
              "      <th>15333</th>\n",
              "      <td>153901397</td>\n",
              "      <td>False</td>\n",
              "      <td>tecnocasa torrelodones</td>\n",
              "      <td>912780348.0</td>\n",
              "      <td>https://www.fotocasa.es/es/comprar/vivienda/ma...</td>\n",
              "      <td>4.0</td>\n",
              "      <td>2.0</td>\n",
              "      <td>175.0</td>\n",
              "      <td>495000</td>\n",
              "      <td>2019-12-17T18:19:00Z</td>\n",
              "      <td>...</td>\n",
              "      <td>0</td>\n",
              "      <td>0</td>\n",
              "      <td>0</td>\n",
              "      <td>0</td>\n",
              "      <td>0</td>\n",
              "      <td>0</td>\n",
              "      <td>40,57444</td>\n",
              "      <td>-3,92124</td>\n",
              "      <td>NaN</td>\n",
              "      <td>NaN</td>\n",
              "    </tr>\n",
              "    <tr>\n",
              "      <th>15334</th>\n",
              "      <td>152607440</td>\n",
              "      <td>False</td>\n",
              "      <td>inmobiliaria pulpon</td>\n",
              "      <td>912788039.0</td>\n",
              "      <td>https://www.fotocasa.es/es/comprar/vivienda/ma...</td>\n",
              "      <td>3.0</td>\n",
              "      <td>2.0</td>\n",
              "      <td>101.0</td>\n",
              "      <td>195000</td>\n",
              "      <td>2019-12-17T18:18:00Z</td>\n",
              "      <td>...</td>\n",
              "      <td>0</td>\n",
              "      <td>0</td>\n",
              "      <td>0</td>\n",
              "      <td>0</td>\n",
              "      <td>0</td>\n",
              "      <td>0</td>\n",
              "      <td>40,36967</td>\n",
              "      <td>-3,48105</td>\n",
              "      <td>NaN</td>\n",
              "      <td>NaN</td>\n",
              "    </tr>\n",
              "    <tr>\n",
              "      <th>15335</th>\n",
              "      <td>153901356</td>\n",
              "      <td>False</td>\n",
              "      <td>infocasa consulting</td>\n",
              "      <td>911360461.0</td>\n",
              "      <td>https://www.fotocasa.es/es/comprar/vivienda/ma...</td>\n",
              "      <td>3.0</td>\n",
              "      <td>2.0</td>\n",
              "      <td>152.0</td>\n",
              "      <td>765000</td>\n",
              "      <td>2019-12-17T18:17:00Z</td>\n",
              "      <td>...</td>\n",
              "      <td>0</td>\n",
              "      <td>0</td>\n",
              "      <td>0</td>\n",
              "      <td>0</td>\n",
              "      <td>0</td>\n",
              "      <td>0</td>\n",
              "      <td>40,45773</td>\n",
              "      <td>-3,69068</td>\n",
              "      <td>NaN</td>\n",
              "      <td>NaN</td>\n",
              "    </tr>\n",
              "  </tbody>\n",
              "</table>\n",
              "<p>15335 rows × 36 columns</p>\n",
              "</div>"
            ],
            "text/plain": [
              "       id_realEstates  isNew                    realEstate_name  \\\n",
              "1           153771986  False            ferrari 57 inmobiliaria   \n",
              "2           153867863  False  tecnocasa fuenlabrada ferrocarril   \n",
              "3           153430440  False                 look find boadilla   \n",
              "4           152776331  False  tecnocasa fuenlabrada ferrocarril   \n",
              "5           153180188  False            ferrari 57 inmobiliaria   \n",
              "...               ...    ...                                ...   \n",
              "15331       153901377  False                infocasa consulting   \n",
              "15332       150394373  False                inmobiliaria pulpon   \n",
              "15333       153901397  False             tecnocasa torrelodones   \n",
              "15334       152607440  False                inmobiliaria pulpon   \n",
              "15335       153901356  False                infocasa consulting   \n",
              "\n",
              "       phone_realEstate                                       url_inmueble  \\\n",
              "1           912177526.0  https://www.fotocasa.es/es/comprar/vivienda/ma...   \n",
              "2           916358736.0  https://www.fotocasa.es/es/comprar/vivienda/ma...   \n",
              "3           916350408.0  https://www.fotocasa.es/es/comprar/vivienda/ma...   \n",
              "4           916358736.0  https://www.fotocasa.es/es/comprar/vivienda/ma...   \n",
              "5           912177526.0  https://www.fotocasa.es/es/comprar/vivienda/ma...   \n",
              "...                 ...                                                ...   \n",
              "15331       911360461.0  https://www.fotocasa.es/es/comprar/vivienda/ma...   \n",
              "15332       912788039.0  https://www.fotocasa.es/es/comprar/vivienda/ma...   \n",
              "15333       912780348.0  https://www.fotocasa.es/es/comprar/vivienda/ma...   \n",
              "15334       912788039.0  https://www.fotocasa.es/es/comprar/vivienda/ma...   \n",
              "15335       911360461.0  https://www.fotocasa.es/es/comprar/vivienda/ma...   \n",
              "\n",
              "       rooms  bathrooms  surface   price                          date  ...  \\\n",
              "1        3.0        2.0    103.0  195000  2019-12-28T18:27:15.9975027Z  ...   \n",
              "2        3.0        1.0      NaN   89000  2019-12-28T18:27:15.9975027Z  ...   \n",
              "3        2.0        2.0     99.0  390000  2019-12-28T18:27:15.9975027Z  ...   \n",
              "4        3.0        1.0     86.0   89000  2019-12-28T18:27:15.9975027Z  ...   \n",
              "5        2.0        2.0    106.0  172000  2019-12-28T18:27:15.9975027Z  ...   \n",
              "...      ...        ...      ...     ...                           ...  ...   \n",
              "15331    2.0        1.0     96.0  259470          2019-12-17T18:19:00Z  ...   \n",
              "15332    3.0        1.0    150.0  165000          2019-12-17T18:19:00Z  ...   \n",
              "15333    4.0        2.0    175.0  495000          2019-12-17T18:19:00Z  ...   \n",
              "15334    3.0        2.0    101.0  195000          2019-12-17T18:18:00Z  ...   \n",
              "15335    3.0        2.0    152.0  765000          2019-12-17T18:17:00Z  ...   \n",
              "\n",
              "      level4Id level5Id level6Id level7Id level8Id accuracy          latitude  \\\n",
              "1            0        0        0        0        0        0  40,2948276786438   \n",
              "2            0        0        0        0        0        1          40,28674   \n",
              "3            0        0        0        0        0        0  40,4115646786438   \n",
              "4            0        0        0        0        0        0  40,2853785786438   \n",
              "5            0        0        0        0        0        0  40,2998774864376   \n",
              "...        ...      ...      ...      ...      ...      ...               ...   \n",
              "15331        0        0        0        0        0        0          40,45416   \n",
              "15332        0        0        0        0        0        0          40,36652   \n",
              "15333        0        0        0        0        0        0          40,57444   \n",
              "15334        0        0        0        0        0        0          40,36967   \n",
              "15335        0        0        0        0        0        0          40,45773   \n",
              "\n",
              "               longitude zipCode customZone  \n",
              "1      -3,44402412135624     NaN        NaN  \n",
              "2               -3,79351     NaN        NaN  \n",
              "3      -3,90662252135624     NaN        NaN  \n",
              "4      -3,79508142135624     NaN        NaN  \n",
              "5      -3,45226301356237     NaN        NaN  \n",
              "...                  ...     ...        ...  \n",
              "15331           -3,70286     NaN        NaN  \n",
              "15332           -3,48951     NaN        NaN  \n",
              "15333           -3,92124     NaN        NaN  \n",
              "15334           -3,48105     NaN        NaN  \n",
              "15335           -3,69068     NaN        NaN  \n",
              "\n",
              "[15335 rows x 36 columns]"
            ]
          },
          "execution_count": 1,
          "metadata": {},
          "output_type": "execute_result"
        }
      ],
      "source": [
        "import pandas as pd\n",
        "import matplotlib.pyplot as plt\n",
        "#We import matplotlib as it will be required later on in the porject.\n",
        "# We import data and create the DataFrame under the variable ds, we identify values are separated by ; and the first column as an index to avoid unnamed column.\n",
        "ds = pd.read_csv('assets/real_estate.csv', sep=';', index_col=[0])\n",
        "\n",
        "# we visualize the dataframe.\n",
        "ds"
      ]
    },
    {
      "attachments": {},
      "cell_type": "markdown",
      "id": "latin-guest",
      "metadata": {},
      "source": [
        "#### Ejercicio 01. ¿Cuál es la casa más cara en todo el dataset? (★☆☆)\n",
        "\n",
        "Imprime la dirección y el precio de la casa seleccionada. Por ejemplo:\n",
        "\n",
        "`La casa con dirección en Calle del Prado, Nº20 es la más cara y su precio es de 5000000 USD`"
      ]
    },
    {
      "cell_type": "code",
      "execution_count": 2,
      "id": "developing-optimum",
      "metadata": {},
      "outputs": [
        {
          "name": "stdout",
          "output_type": "stream",
          "text": [
            "La casa con dirección en El Escorial es la más cara y su precio es de 8500000 €\n"
          ]
        }
      ],
      "source": [
        "# We identify the index of the maximum value in the column Price and obtain the whole row.\n",
        "max_value = ds.loc[ds['price'].idxmax()]\n",
        "\n",
        "print(f\"La casa con dirección en {max_value['address']} es la más cara y su precio es de {max_value['price']} €\")"
      ]
    },
    {
      "attachments": {},
      "cell_type": "markdown",
      "id": "lesser-cosmetic",
      "metadata": {},
      "source": [
        "#### Ejercicio 02. ¿Cuál es la casa más barata del dataset? (★☆☆)\n",
        "\n",
        "Imprime la dirección y el precio de la casa seleccionada. Por ejemplo:\n",
        "\n",
        "`La casa con dirección en Calle Alcalá, Nº58 es la más barata y su precio es de 12000 USD`"
      ]
    },
    {
      "cell_type": "code",
      "execution_count": 3,
      "id": "lovely-oasis",
      "metadata": {},
      "outputs": [
        {
          "name": "stdout",
          "output_type": "stream",
          "text": [
            "La casa con dirección en Berlin, Coslada es la más barata y su precio es de 600 €\n"
          ]
        }
      ],
      "source": [
        "#We detected values equal to 0, we filter to values above 0.\n",
        "ds_ok = ds[ds['price'] > 0]\n",
        "\n",
        "# We identify the index of the minimum value in the column Price and obtain the whole row.\n",
        "min_value = ds_ok.loc[ds_ok['price'].idxmin()]\n",
        "\n",
        "print(f\"La casa con dirección en {min_value['address']} es la más barata y su precio es de {min_value['price']} €\")"
      ]
    },
    {
      "attachments": {},
      "cell_type": "markdown",
      "id": "compliant-fellowship",
      "metadata": {},
      "source": [
        "#### Ejercicio 03. ¿Cuál es la casa más grande y la más pequeña del dataset? (★☆☆)\n",
        "\n",
        "Imprime la dirección y el área de las casas seleccionadas. Por ejemplo:\n",
        "\n",
        "`La casa más grande está ubicada en Calle Gran Vía, Nº38 y su superficie es de 5000 metros`\n",
        "\n",
        "`La casa más pequeña está ubicada en Calle Mayor, Nº12 y su superficie es de 200 metros`"
      ]
    },
    {
      "cell_type": "code",
      "execution_count": 4,
      "id": "every-tiffany",
      "metadata": {},
      "outputs": [
        {
          "name": "stdout",
          "output_type": "stream",
          "text": [
            "La casa más grande está ubicada en Sevilla la Nueva y su superficie es de 249000 metros\n",
            "La casa más pequeña está ubicada en Calle Amparo,  Madrid Capital y su superficie es de 15 metros\n"
          ]
        }
      ],
      "source": [
        "# We identify the index of the minimum and maximum surfaces in the column surface and obtain the whole row.\n",
        "max_surface = ds_ok.loc[ds_ok['surface'].idxmax()]\n",
        "min_surface = ds_ok.loc[ds_ok['surface'].idxmin()]\n",
        "\n",
        "# We convert the surface value to int to avoid obtaining the .0 after the value of the surface.\n",
        "max_surface_int = int(max_surface['surface'])\n",
        "min_surface_int = int(min_surface['surface'])\n",
        "\n",
        "print(f\"La casa más grande está ubicada en {max_surface['address']} y su superficie es de {max_surface_int} metros\")\n",
        "print(f\"La casa más pequeña está ubicada en {min_surface['address']} y su superficie es de {min_surface_int} metros\")\n"
      ]
    },
    {
      "attachments": {},
      "cell_type": "markdown",
      "id": "danish-spirit",
      "metadata": {},
      "source": [
        "#### Ejercicio 04. ¿Cuantas poblaciones (columna level5) contiene el dataset? (★☆☆)\n",
        "\n",
        "Imprime el nombre de las poblaciones separadas por coma. Por ejemplo:\n",
        "\n",
        "`> print(populations)`\n",
        "\n",
        "`population1, population2, population3, ...`"
      ]
    },
    {
      "cell_type": "code",
      "execution_count": 5,
      "id": "exciting-accreditation",
      "metadata": {},
      "outputs": [
        {
          "name": "stdout",
          "output_type": "stream",
          "text": [
            "Arganda del Rey, Fuenlabrada, Boadilla del Monte, Las Rozas de Madrid,  Madrid Capital, Villaviciosa de Odón, Pinto, Valdemoro, Navalcarnero, Pozuelo de Alarcón, Torrejón de Ardoz, Navalagamella, San Sebastián de los Reyes, Rivas-vaciamadrid, Alpedrete, Móstoles, San Fernando de Henares, Coslada, Becerril de la Sierra, Alcalá de Henares, Chinchón, Parla, Alcorcón, El Escorial, Leganés, Pedrezuela, Majadahonda, Villanueva de la Cañada, Villanueva del Pardillo, Torrelodones, Moralzarzal, Mejorada del Campo, Aranjuez, Corpa, Getafe, Velilla de San Antonio, Sevilla la Nueva, San Martín de la Vega, Villalbilla, Collado Villalba, Alcobendas, El Molar (Madrid), Moraleja de Enmedio, Algete, Campo Real, Torrejón de la Calzada, Colmenar Viejo, Valdemorillo, Fuente El Saz de Jarama, Tres Cantos, Arroyomolinos (Madrid), Griñón, Paracuellos de Jarama, Guadarrama, Titulcia, Galapagar, Collado Mediano, Los Molinos, San Lorenzo de El Escorial, Loeches, San Martín de Valdeiglesias, Navas del Rey, Bustarviejo, Manzanares El Real, Carabaña, Casarrubuelos, Cercedilla, Fresnedillas de la Oliva, Valdemaqueda, Robledo de Chavela, Miraflores de la Sierra, Humanes de Madrid, Valdetorres de Jarama, San Agustín del Guadalix, Ciempozuelos, Camarma de Esteruelas, Torres de la Alameda, Talamanca de Jarama, El Atazar, Hoyo de Manzanares, El Boalo - Cerceda – Mataelpino, El Álamo, Valdilecha, Valdeolmos-Alalpardo, Guadalix de la Sierra, Belmonte de Tajo, El Vellón, Brunete, Redueña, Morata de Tajuña, Tielmes, Gargantilla del Lozoya, Meco, Venturada, Quijorna, Cenicientos, Torrejón de Velasco, Navacerrada, Santa María de la Alameda, Orusco de Tajuña, Daganzo de Arriba, Villamanta, Anchuelo, Valdaracete, Ajalvir, Los Santos de la Humosa, Villamanrique de Tajo, Colmenar de Oreja, Villa del Prado, Fuentidueña de Tajo, Colmenar del Arroyo, Valdelaguna, Cubas de la Sagra, Valdeavero, Aldea del Fresno, Ribatejada, Torrelaguna, Batres, Pezuela de las Torres, Colmenarejo, Serranillos del Valle, Cobeña, Soto del Real, El Berrueco, Villanueva de Perales, Fresno de Torote - Serracines, Pozuelo del Rey, Pelayos de la Presa, La Cabrera, Nuevo Baztán, Perales de Tajuña, Villaconejos, Villarejo de Salvanés, Cadalso de los Vidrios, Santorcaz, Madarcos, Garganta de los Montes, Puentes Viejas, Torremocha de Jarama, Valdemanco, Braojos, Lozoyuela-navas-sieteiglesias, Piñuécar-gandullas, Valdepiélagos, Valverde de Alcalá, Villar del Olmo, Villamantilla, Horcajo de la Sierra, Gascones, Zarzalejo, Villavieja del Lozoya, Brea de Tajo, Estremera, Chapinería, Navarredonda, Patones, Ambite, Navalafuente, Lozoya, Canencia, Cabanillas de la Sierra, Buitrago del Lozoya, Fresno de Torote, Robregordo, Pinilla del Valle, Rascafría, La Hiruela, Montejo de la Sierra\n"
          ]
        }
      ],
      "source": [
        "# We obtain the level5 unique values and join them with \",\" to display them.\n",
        "populations = ', '.join(ds_ok['level5'].unique())\n",
        "\n",
        "print(populations)"
      ]
    },
    {
      "attachments": {},
      "cell_type": "markdown",
      "id": "crazy-blame",
      "metadata": {},
      "source": [
        "#### Ejercicio 05. ¿El dataset contiene valores no admitidos (NAs)? (★☆☆)\n",
        "\n",
        "Imprima un booleano (`True` o `False`) seguido de la fila/columna que contiene el NAs."
      ]
    },
    {
      "cell_type": "code",
      "execution_count": 6,
      "id": "transparent-poetry",
      "metadata": {},
      "outputs": [
        {
          "name": "stdout",
          "output_type": "stream",
          "text": [
            "       id_realEstates  isNew  realEstate_name  phone_realEstate  url_inmueble  \\\n",
            "1               False  False            False             False         False   \n",
            "2               False  False            False             False         False   \n",
            "3               False  False            False             False         False   \n",
            "4               False  False            False             False         False   \n",
            "5               False  False            False             False         False   \n",
            "...               ...    ...              ...               ...           ...   \n",
            "15331           False  False            False             False         False   \n",
            "15332           False  False            False             False         False   \n",
            "15333           False  False            False             False         False   \n",
            "15334           False  False            False             False         False   \n",
            "15335           False  False            False             False         False   \n",
            "\n",
            "       rooms  bathrooms  surface  price   date  ...  level4Id  level5Id  \\\n",
            "1      False      False    False  False  False  ...     False     False   \n",
            "2      False      False     True  False  False  ...     False     False   \n",
            "3      False      False    False  False  False  ...     False     False   \n",
            "4      False      False    False  False  False  ...     False     False   \n",
            "5      False      False    False  False  False  ...     False     False   \n",
            "...      ...        ...      ...    ...    ...  ...       ...       ...   \n",
            "15331  False      False    False  False  False  ...     False     False   \n",
            "15332  False      False    False  False  False  ...     False     False   \n",
            "15333  False      False    False  False  False  ...     False     False   \n",
            "15334  False      False    False  False  False  ...     False     False   \n",
            "15335  False      False    False  False  False  ...     False     False   \n",
            "\n",
            "       level6Id  level7Id  level8Id  accuracy  latitude  longitude  zipCode  \\\n",
            "1         False     False     False     False     False      False     True   \n",
            "2         False     False     False     False     False      False     True   \n",
            "3         False     False     False     False     False      False     True   \n",
            "4         False     False     False     False     False      False     True   \n",
            "5         False     False     False     False     False      False     True   \n",
            "...         ...       ...       ...       ...       ...        ...      ...   \n",
            "15331     False     False     False     False     False      False     True   \n",
            "15332     False     False     False     False     False      False     True   \n",
            "15333     False     False     False     False     False      False     True   \n",
            "15334     False     False     False     False     False      False     True   \n",
            "15335     False     False     False     False     False      False     True   \n",
            "\n",
            "       customZone  \n",
            "1            True  \n",
            "2            True  \n",
            "3            True  \n",
            "4            True  \n",
            "5            True  \n",
            "...           ...  \n",
            "15331        True  \n",
            "15332        True  \n",
            "15333        True  \n",
            "15334        True  \n",
            "15335        True  \n",
            "\n",
            "[15275 rows x 36 columns]\n"
          ]
        }
      ],
      "source": [
        "# We create a boolean variable for the NAs.\n",
        "boolean_nas = pd.isna(ds_ok)\n",
        "\n",
        "print(boolean_nas)"
      ]
    },
    {
      "attachments": {},
      "cell_type": "markdown",
      "id": "italic-hydrogen",
      "metadata": {},
      "source": [
        "#### Ejercicio 06. Elimina los NAs del dataset, si aplica (★★☆)\n",
        "\n",
        "Imprima una comparación entre las dimensiones del DataFrame original versus el DataFrame después de las eliminaciones.\n"
      ]
    },
    {
      "cell_type": "code",
      "execution_count": 7,
      "id": "c75cd537",
      "metadata": {},
      "outputs": [
        {
          "name": "stdout",
          "output_type": "stream",
          "text": [
            "id_realEstates: 0 NAs, 15275 NoNAs\n",
            "isNew: 0 NAs, 15275 NoNAs\n",
            "realEstate_name: 10 NAs, 15265 NoNAs\n",
            "phone_realEstate: 789 NAs, 14486 NoNAs\n",
            "url_inmueble: 0 NAs, 15275 NoNAs\n",
            "rooms: 350 NAs, 14925 NoNAs\n",
            "bathrooms: 339 NAs, 14936 NoNAs\n",
            "surface: 1245 NAs, 14030 NoNAs\n",
            "price: 0 NAs, 15275 NoNAs\n",
            "date: 0 NAs, 15275 NoNAs\n",
            "description: 142 NAs, 15133 NoNAs\n",
            "address: 0 NAs, 15275 NoNAs\n",
            "country: 0 NAs, 15275 NoNAs\n",
            "level1: 0 NAs, 15275 NoNAs\n",
            "level2: 0 NAs, 15275 NoNAs\n",
            "level3: 0 NAs, 15275 NoNAs\n",
            "level4: 6632 NAs, 8643 NoNAs\n",
            "level5: 0 NAs, 15275 NoNAs\n",
            "level6: 14570 NAs, 705 NoNAs\n",
            "level7: 2265 NAs, 13010 NoNAs\n",
            "level8: 8530 NAs, 6745 NoNAs\n",
            "upperLevel: 0 NAs, 15275 NoNAs\n",
            "countryId: 0 NAs, 15275 NoNAs\n",
            "level1Id: 0 NAs, 15275 NoNAs\n",
            "level2Id: 0 NAs, 15275 NoNAs\n",
            "level3Id: 0 NAs, 15275 NoNAs\n",
            "level4Id: 0 NAs, 15275 NoNAs\n",
            "level5Id: 0 NAs, 15275 NoNAs\n",
            "level6Id: 0 NAs, 15275 NoNAs\n",
            "level7Id: 0 NAs, 15275 NoNAs\n",
            "level8Id: 0 NAs, 15275 NoNAs\n",
            "accuracy: 0 NAs, 15275 NoNAs\n",
            "latitude: 0 NAs, 15275 NoNAs\n",
            "longitude: 0 NAs, 15275 NoNAs\n",
            "zipCode: 15275 NAs, 0 NoNAs\n",
            "customZone: 15275 NAs, 0 NoNAs\n"
          ]
        }
      ],
      "source": [
        "#We count how many NAs and NoNAs exist in each column to determine which columns are completely unnecessary.\n",
        "na_count = ds_ok.isna().sum()\n",
        "nona_count = ds_ok.notna().sum()\n",
        "\n",
        "for column in ds_ok.columns:\n",
        "    print(f\"{column}: {na_count[column]} NAs, {nona_count[column]} NoNAs\")"
      ]
    },
    {
      "cell_type": "code",
      "execution_count": 8,
      "id": "administrative-roads",
      "metadata": {},
      "outputs": [
        {
          "name": "stdout",
          "output_type": "stream",
          "text": [
            "Original size: (15335, 36) size after removing what we consider, useless columns: (15275, 33) and after removing all the rows with an NA value, the shape is: (110, 33)\n",
            "We will continue the project working with the dataset new_ds which seems to keep the data we require for the rest of the project\n"
          ]
        }
      ],
      "source": [
        "# We erase the last two columns for the have only NAs and the column level6 which 95% of the data is NAs.\n",
        "new_ds = ds_ok.drop([\"zipCode\",\"customZone\",\"level6\"], axis=1)\n",
        "\n",
        "#We erase the rest of the lists with any NA values, had we done it before, it would have erased all the data because of the last two columns. Or 95% of the data due to level6 column.\n",
        "drop_new_ds = new_ds.dropna()\n",
        "\n",
        "# We define the shape of the original size, without the thre useless columns and the latest.\n",
        "size_before = ds.shape\n",
        "size_after = new_ds.shape\n",
        "last_size = drop_new_ds.shape\n",
        "\n",
        "print(f'Original size: {size_before} size after removing what we consider, useless columns: {size_after} and after removing all the rows with an NA value, the shape is: {last_size}')\n",
        "print(f'We will continue the project working with the dataset new_ds which seems to keep the data we require for the rest of the project')"
      ]
    },
    {
      "attachments": {},
      "cell_type": "markdown",
      "id": "middle-china",
      "metadata": {},
      "source": [
        "#### Ejercicio 07. ¿Cuál es la media de precios en la población (columna level5) de \"Arroyomolinos (Madrid)\"? (★★☆)\n",
        "\n",
        "Imprima el valor obtenido."
      ]
    },
    {
      "cell_type": "code",
      "execution_count": 9,
      "id": "nuclear-belief",
      "metadata": {},
      "outputs": [
        {
          "name": "stdout",
          "output_type": "stream",
          "text": [
            "The mean of the values in Arroyomolinos (Madrid) is : 298905.18 €\n"
          ]
        }
      ],
      "source": [
        "# We filter by the rows that have the value \"Arroyomolinos (Madrid)\" in column \"level5\".\n",
        "am_ds = new_ds[new_ds[\"level5\"] == \"Arroyomolinos (Madrid)\"]\n",
        "\n",
        "# We obtain the mean from the values in column price from the filtered values in Arroyomolinos (Madrid) and we limited the result to showing 2 decimals.\n",
        "mean_am_ds = round(am_ds[\"price\"].mean(), 2)\n",
        "\n",
        "print(f\"The mean of the values in Arroyomolinos (Madrid) is : {mean_am_ds} €\")\n",
        "\n"
      ]
    },
    {
      "attachments": {},
      "cell_type": "markdown",
      "id": "concerned-radical",
      "metadata": {},
      "source": [
        "#### Ejercicio 08. Trazar el histograma de los precios para la población (level5 column) de \"Arroyomolinos (Madrid)\" y explica qué observas (★★☆)\n",
        "\n",
        "Imprime el histograma de los precios y escribe en la celda del Markdown un breve análisis del trazado.\n"
      ]
    },
    {
      "cell_type": "code",
      "execution_count": 10,
      "id": "sudden-message",
      "metadata": {},
      "outputs": [
        {
          "data": {
            "image/png": "[encoded data removed]",
            "text/plain": [
              "<Figure size 640x480 with 1 Axes>"
            ]
          },
          "metadata": {},
          "output_type": "display_data"
        }
      ],
      "source": [
        "#We set the histogram variable for the property prices.\n",
        "am_ds_histogram = am_ds[\"price\"].hist(bins=15)\n",
        "\n",
        "#We define its title and labels.\n",
        "plt.title('Prices in properties in Arroyomolinos (Madrid)')\n",
        "plt.xlabel('Price')\n",
        "plt.ylabel('Properties')\n",
        "\n",
        "plt.show(am_ds_histogram)\n",
        "\n"
      ]
    },
    {
      "cell_type": "markdown",
      "id": "727ea293",
      "metadata": {},
      "source": [
        "We observe right-skewed distribution, where there is a clear accumulation of properties with prices between 200.000 € and 400.000 €, and peaks at values closer to 200.000 €, 300.000 €, and 340.000 €. We notice a few properties with values around 570.000 €, however those being exclusive and out of the norm in this area.  "
      ]
    },
    {
      "attachments": {},
      "cell_type": "markdown",
      "id": "actual-edinburgh",
      "metadata": {},
      "source": [
        "#### Ejercicio 09. ¿Son los precios promedios de \"Valdemorillo\" y \"Galapagar\" los mismos? (★★☆)\n",
        "\n",
        "Imprime ambos promedios y escribe una conclusión sobre ellos."
      ]
    },
    {
      "cell_type": "code",
      "execution_count": 11,
      "id": "numeric-commerce",
      "metadata": {},
      "outputs": [
        {
          "name": "stdout",
          "output_type": "stream",
          "text": [
            "The price average in Valdemorillo is 363860.29, while in Galapagar is 360063.2\n",
            "The price median in Valdemorillo is 324500.0, while in Galapagar is 350000.0\n"
          ]
        }
      ],
      "source": [
        "# We create the variables for the dataframe with the Valdemorillo values and Galapagar.\n",
        "vd_ds = new_ds[new_ds[\"level5\"] == \"Valdemorillo\"]\n",
        "gp_ds = new_ds[new_ds[\"level5\"] == \"Galapagar\"]\n",
        "\n",
        "# We calculate the mean and median to obtain a clearer understanding of the what the average information is disclosing.\n",
        "mean_vd_ds = round(vd_ds[\"price\"].mean(),2)\n",
        "median_vd_ds = round(vd_ds[\"price\"].median(),2)\n",
        "\n",
        "mean_gp_ds = round(gp_ds[\"price\"].mean(),2)\n",
        "median_gp_ds = round(gp_ds[\"price\"].median(),2)\n",
        "\n",
        "\n",
        "print(f\"The price average in Valdemorillo is {mean_vd_ds}, while in Galapagar is {mean_gp_ds}\")\n",
        "print(f\"The price median in Valdemorillo is {median_vd_ds}, while in Galapagar is {median_gp_ds}\")\n"
      ]
    },
    {
      "cell_type": "markdown",
      "id": "60975a4f",
      "metadata": {},
      "source": [
        "We observe that the house pricing for Galapagar and Valdemorillo are quite similar. Interestingly enough, we detect how the Valdemorillo median is smaller while its average is bigger than galapagar's, which suggests that there are a few very expensive properties in Valdemorillo that significantly raise its average price."
      ]
    },
    {
      "attachments": {},
      "cell_type": "markdown",
      "id": "lonely-article",
      "metadata": {},
      "source": [
        "#### Ejercicio 10. ¿Son los promedios de precio por metro cuadrado (precio/m2) de \"Valdemorillo\" y \"Galapagar\" los mismos? (★★☆)\n",
        "\n",
        "Imprime ambos promedios de precio por metro cuadrado y escribe una conclusión sobre ellos.\n",
        "\n",
        "Pista: Crea una nueva columna llamada `pps` (*price per square* o precio por metro cuadrado) y luego analiza los valores."
      ]
    },
    {
      "cell_type": "code",
      "execution_count": 12,
      "id": "hourly-globe",
      "metadata": {},
      "outputs": [
        {
          "name": "stdout",
          "output_type": "stream",
          "text": [
            "The price per square meter in Valdemorillo is 1317.95 €, and in Galapagar is: 1606.32 €\n"
          ]
        }
      ],
      "source": [
        "# We make sure there are no NA values on surfaces column to avoid receiving unexpected values in the pps column. \n",
        "new_ds = new_ds.dropna(subset=[\"surface\"])\n",
        "\n",
        "# We generate the new column in the new_ds.\n",
        "new_ds[\"pps\"] = new_ds[\"price\"]/new_ds[\"surface\"]\n",
        "\n",
        "# We call again the variable for the vd_ds and gp_ds to include the pps columns and update the info.\n",
        "vd_ds = new_ds[new_ds[\"level5\"] == \"Valdemorillo\"]\n",
        "gp_ds = new_ds[new_ds[\"level5\"] == \"Galapagar\"]\n",
        "\n",
        "# We calculate the average per square meter for Valdemorillo and Galapagar.\n",
        "avg_vd_ds = round(vd_ds[\"pps\"].mean(),2)\n",
        "avg_gp_ds = round(gp_ds[\"pps\"].mean(),2)\n",
        "\n",
        "\n",
        "print(f'The price per square meter in Valdemorillo is {avg_vd_ds} €, and in Galapagar is: {avg_gp_ds} €')\n"
      ]
    },
    {
      "cell_type": "markdown",
      "id": "47438bbc",
      "metadata": {},
      "source": [
        "We observe a clear difference in price per square meter. In Valdemorillo, the price per square meter is cheaper. Looking back at the previous information regarding the average price, the houses in Valdemorillo are likely to be bigger than in Galapagar."
      ]
    },
    {
      "attachments": {},
      "cell_type": "markdown",
      "id": "pleasant-invite",
      "metadata": {},
      "source": [
        "#### Ejercicio 11. Analiza la relación entre la superficie y el precio de las casas. (★★☆)\n",
        "\n",
        "Pista: Puedes hacer un `scatter plot` y luego escribir una conclusión al respecto."
      ]
    },
    {
      "cell_type": "code",
      "execution_count": 13,
      "id": "common-drilling",
      "metadata": {},
      "outputs": [
        {
          "data": {
            "image/png": "[encoded data removed]",
            "text/plain": [
              "<Figure size 1000x600 with 1 Axes>"
            ]
          },
          "metadata": {},
          "output_type": "display_data"
        }
      ],
      "source": [
        "# We select the size of the scatter plot figures, as well as the axis for the surface and the price house.\n",
        "plt.figure(figsize=(10, 6))\n",
        "plt.scatter(new_ds['surface'], new_ds['price'], color='blue')\n",
        "plt.title('Relationship between Surface and Home Prices')\n",
        "plt.xlabel('Surface (m²)')\n",
        "plt.ylabel('Price (€)')\n",
        "plt.grid(True)\n",
        "plt.show()"
      ]
    },
    {
      "attachments": {},
      "cell_type": "markdown",
      "id": "ahead-liquid",
      "metadata": {},
      "source": [
        "We cannot obtain a clear result from this scatter plot, for clearly the price (y axis) is not being represented correctly. Assuming the scatter plot is correct and we observe how most of the houses appear to have relatively small surface areas (close to zero) compared to the few outliers with very large surface areas. This suggests that typical houses fall within a smaller range of surface areas, while there are a few properties with exceptionally large areas."
      ]
    },
    {
      "attachments": {},
      "cell_type": "markdown",
      "id": "coordinate-sunrise",
      "metadata": {},
      "source": [
        "#### Ejercicio 12. ¿Cuántas agencia de bienes raíces contiene el dataset? (★★☆)\n",
        "\n",
        "Imprime el valor obtenido."
      ]
    },
    {
      "cell_type": "code",
      "execution_count": 14,
      "id": "valid-honolulu",
      "metadata": {},
      "outputs": [
        {
          "name": "stdout",
          "output_type": "stream",
          "text": [
            "1821\n"
          ]
        }
      ],
      "source": [
        "# We select the original dataset to make sure we don't miss any agencies. We drop any NA in the realEstate_name column.\n",
        "clean_ds = ds.dropna(subset=[\"realEstate_name\"])\n",
        "\n",
        "# We turn the column into a set to get rid of duplicates. \n",
        "unique_clean_ds = set(clean_ds[\"realEstate_name\"])\n",
        "\n",
        "# We obtain the number of items in the set, which is the number of real estate agencies.\n",
        "real_estates_count = len(unique_clean_ds)\n",
        "\n",
        "print(real_estates_count)"
      ]
    },
    {
      "attachments": {},
      "cell_type": "markdown",
      "id": "binding-ebony",
      "metadata": {},
      "source": [
        "#### Ejercicio 13. ¿Cuál es la población (columna level5) que contiene la mayor cantidad de casas?(★★☆)\n",
        "\n",
        "Imprima la población y el número de casas."
      ]
    },
    {
      "cell_type": "code",
      "execution_count": 15,
      "id": "static-perry",
      "metadata": {},
      "outputs": [
        {
          "name": "stdout",
          "output_type": "stream",
          "text": [
            "The place with more houses is: Madrid Capital, with 6643 houses in their zone.\n"
          ]
        }
      ],
      "source": [
        "# We understand that each time the \"poblacion\" appears, counts as one house, therefore we find which \"poblacion\" repeats itself more times in the column.\n",
        "count_poblacion = ds['level5'].value_counts()\n",
        "poblacion_max = count_poblacion.idxmax()\n",
        "number_houses = count_poblacion.max()\n",
        "\n",
        "print(f\"The place with more houses is:{poblacion_max}, with {number_houses} houses in their zone.\")"
      ]
    },
    {
      "attachments": {},
      "cell_type": "markdown",
      "id": "entire-classification",
      "metadata": {},
      "source": [
        "#### Ejercicio 14. Ahora vamos a trabajar con el \"cinturón sur\" de Madrid. Haz un subconjunto del DataFrame original que contenga las siguientes poblaciones (columna level5): \"Fuenlabrada\", \"Leganés\", \"Getafe\", \"Alcorcón\" (★★☆)\n",
        "\n",
        "Pista: Filtra el DataFrame original usando la columna `level5` y la función `isin`."
      ]
    },
    {
      "cell_type": "code",
      "execution_count": 16,
      "id": "binary-input",
      "metadata": {},
      "outputs": [],
      "source": [
        "# We make a dataframe called cinturon sur.\n",
        "cinturon_sur_list = [\"Fuenlabrada\", \"Leganés\", \"Getafe\", \"Alcorcón\"]\n",
        "\n",
        "cinturon_sur_ds = new_ds[new_ds[\"level5\"].isin(cinturon_sur_list)]"
      ]
    },
    {
      "attachments": {},
      "cell_type": "markdown",
      "id": "severe-fisher",
      "metadata": {},
      "source": [
        "#### Ejercicio 15. Traza un gráfico de barras de la mediana de los precios y explica lo que observas (debes usar el subconjunto obtenido del Ejercicio 14) (★★★)\n",
        "\n",
        "Imprima un gráfico de barras de la mediana de precios y escriba en la celda Markdown un breve análisis sobre el gráfico."
      ]
    },
    {
      "cell_type": "code",
      "execution_count": 17,
      "id": "lyric-bunch",
      "metadata": {},
      "outputs": [
        {
          "data": {
            "image/png": "[encoded data removed]",
            "text/plain": [
              "<Figure size 640x480 with 1 Axes>"
            ]
          },
          "metadata": {},
          "output_type": "display_data"
        }
      ],
      "source": [
        "# We groupby the \"poblaciones\" and calculate its median by \"price\".\n",
        "cinturon_sur_median_prices = cinturon_sur_ds.groupby(\"level5\")[\"price\"].median()\n",
        "\n",
        "# We plot the bar graphic in skyblue color, add the title, labels, adjust the rotation of the label in x and add a grid on the y axis.\n",
        "cinturon_sur_median_prices.plot(kind='bar', color='skyblue')\n",
        "plt.title('Median price per \"población\"')\n",
        "plt.xlabel('Población')\n",
        "plt.ylabel('Median Price')\n",
        "plt.xticks(rotation=0)\n",
        "plt.grid(axis='y')\n",
        "\n",
        "# show the graph.\n",
        "plt.show()"
      ]
    },
    {
      "attachments": {},
      "cell_type": "markdown",
      "id": "sublime-newspaper",
      "metadata": {},
      "source": [
        "When looking at the graph we understand that Getafe has the highest median price, while Fuenlabrada has the lowest. However, Alcorcón, Fuenlabrada and Leganés have a very similar price, which differs from Getafe, which price is way above the rest."
      ]
    },
    {
      "attachments": {},
      "cell_type": "markdown",
      "id": "speaking-diamond",
      "metadata": {},
      "source": [
        "#### Ejercicio 16. Calcula la media y la varianza de muestra para las siguientes variables: precio, habitaciones, superficie y baños (debes usar el subconjunto obtenido del Ejercicio 14) (★★★)\n",
        "\n",
        "Imprime ambos valores por cada variable."
      ]
    },
    {
      "cell_type": "code",
      "execution_count": 18,
      "id": "random-feeling",
      "metadata": {},
      "outputs": [
        {
          "name": "stdout",
          "output_type": "stream",
          "text": [
            "The mean for the price in the Cinturon Sur is: 225446.68 with a variance of: 14625529767.26\n",
            "The mean for the number of rooms in the Cinturon Sur is: 3.01 with a variance of: 0.71\n",
            "The mean for the houses surface in the Cinturon Sur is: 111.3 with a variance of: 4275.92\n",
            "The mean for the bathrooms in the Cinturon Sur is: 1.63 with a variance of: 0.58\n"
          ]
        }
      ],
      "source": [
        "# We calculate the mean and variance for the price of cinturon_sur and round it to the last 2 decimals.\n",
        "price_cs_mean = round(cinturon_sur_ds[\"price\"].mean(),2)\n",
        "price_cs_var = round(cinturon_sur_ds[\"price\"].var(),2)\n",
        "\n",
        "# We calculate the mean and variance for the number of rooms of cinturon_sur and round it to the last 2 decimals.\n",
        "rooms_cs_mean = round(cinturon_sur_ds[\"rooms\"].mean(),2)\n",
        "rooms_cs_var = round(cinturon_sur_ds[\"rooms\"].var(),2)\n",
        "\n",
        "# We calculate the mean and variance for the surface in houses of cinturon_sur and round it to the last 2 decimals.\n",
        "surface_cs_mean = round(cinturon_sur_ds[\"surface\"].mean(),2)\n",
        "surface_cs_var = round(cinturon_sur_ds[\"surface\"].var(),2)\n",
        "\n",
        "# We calculate the mean and variance for the number of bathrooms of cinturon_sur and round it to the last 2 decimals.\n",
        "bathrooms_cs_mean = round(cinturon_sur_ds[\"bathrooms\"].mean(),2)\n",
        "bathrooms_cs_var = round(cinturon_sur_ds[\"bathrooms\"].var(),2)\n",
        "\n",
        "print(f'The mean for the price in the Cinturon Sur is: {price_cs_mean} with a variance of: {price_cs_var}')\n",
        "print(f'The mean for the number of rooms in the Cinturon Sur is: {rooms_cs_mean} with a variance of: {rooms_cs_var}')\n",
        "print(f'The mean for the houses surface in the Cinturon Sur is: {surface_cs_mean} with a variance of: {surface_cs_var}')\n",
        "print(f'The mean for the bathrooms in the Cinturon Sur is: {bathrooms_cs_mean} with a variance of: {bathrooms_cs_var}')"
      ]
    },
    {
      "attachments": {},
      "cell_type": "markdown",
      "id": "revolutionary-matrix",
      "metadata": {},
      "source": [
        "#### Ejercicio 17. ¿Cuál es la casa más cara de cada población? Debes usar el subset obtenido en la pregunta 14 (★★☆)\n",
        "\n",
        "Imprime tanto la dirección como el precio de la casa seleccionada de cada población. Puedes imprimir un DataFrame o una sola línea para cada población."
      ]
    },
    {
      "cell_type": "code",
      "execution_count": 19,
      "id": "fifteen-browse",
      "metadata": {},
      "outputs": [
        {
          "name": "stdout",
          "output_type": "stream",
          "text": [
            "The house with address: Alcorcón is the most expensive in Alcorcón and its price is: 950000 €\n",
            "The house with address: Calle de Paulo Freire, 5, Fuenlabrada is the most expensive in Fuenlabrada and its price is: 490000 €\n",
            "The house with address: Getafe is the most expensive in Getafe and its price is: 1050000 €\n",
            "The house with address: Avenida Reina Sofía, Leganés is the most expensive in Leganés and its price is: 650000 €\n"
          ]
        }
      ],
      "source": [
        "# We identify the index of the maximum value, grouped by poblacion (level5) and obtain the whole row.\n",
        "cinturon_sur_max_properties = cinturon_sur_ds.loc[cinturon_sur_ds.groupby(\"level5\")[\"price\"].idxmax()]\n",
        "\n",
        "# We iterate over the rows in the dataframe \n",
        "for index, row in cinturon_sur_max_properties.iterrows():\n",
        "    print(f\"The house with address: {row['address']} is the most expensive in {row['level5']} and its price is: {row['price']} €\")\n"
      ]
    },
    {
      "attachments": {},
      "cell_type": "markdown",
      "id": "activated-knight",
      "metadata": {},
      "source": [
        "#### Ejercicio 18. Normaliza la variable de precios para cada población y traza los 4 histogramas en el mismo gráfico (debes usar el subconjunto obtenido en la pregunta 14) (★★★)\n",
        "\n",
        "Para el método de normalización, puedes usar el que consideres adecuado, no hay una única respuesta correcta para esta pregunta. Imprime el gráfico y escribe en la celda de Markdown un breve análisis sobre el gráfico.\n",
        "\n",
        "Pista: Puedes ayudarte revisando la demostración multihist de Matplotlib."
      ]
    },
    {
      "cell_type": "code",
      "execution_count": 20,
      "id": "civic-meditation",
      "metadata": {},
      "outputs": [
        {
          "name": "stderr",
          "output_type": "stream",
          "text": [
            "/tmp/ipykernel_4097/352745002.py:6: SettingWithCopyWarning: \n",
            "A value is trying to be set on a copy of a slice from a DataFrame.\n",
            "Try using .loc[row_indexer,col_indexer] = value instead\n",
            "\n",
            "See the caveats in the documentation: https://pandas.pydata.org/pandas-docs/stable/user_guide/indexing.html#returning-a-view-versus-a-copy\n",
            "  cinturon_sur_ds.loc[:, 'normalized_price'] = cinturon_sur_ds.groupby('level5')['price'].transform(normalize)\n"
          ]
        },
        {
          "data": {
            "image/png": "[encoded data removed]",
            "text/plain": [
              "<Figure size 1200x1000 with 4 Axes>"
            ]
          },
          "metadata": {},
          "output_type": "display_data"
        }
      ],
      "source": [
        "# We decide the methodology to normalising, we will do a min-max scaling. [(current value - min value) / (max value - min value)]\n",
        "def normalize(value):\n",
        "    return (value - value.min()) / (value.max() - value.min())\n",
        "\n",
        "# We apply a temporary normalization to the cinturon_sur and get the data in a new column Normalized_Price. We use groupby to isolate each normalization for level5 value.\n",
        "cinturon_sur_ds.loc[:, 'normalized_price'] = cinturon_sur_ds.groupby('level5')['price'].transform(normalize)\n",
        "\n",
        "# We define the number of subplots, its organisation and the size of the histograms.\n",
        "fig, axes = plt.subplots(nrows=2, ncols=2, figsize=(12, 10))\n",
        "\n",
        "# Plot histogram for Fuenlabrada, set its color to blue.\n",
        "data_fuenlabrada = cinturon_sur_ds[cinturon_sur_ds['level5'] == \"Fuenlabrada\"]\n",
        "axes[0, 0].hist(data_fuenlabrada['normalized_price'], bins=10, color='blue', edgecolor='black')\n",
        "axes[0, 0].set_title('Fuenlabrada')\n",
        "axes[0, 0].set_xlabel('Normalized Price')\n",
        "axes[0, 0].set_ylabel('Frequency')\n",
        "\n",
        "# Plot histogram for Leganés, set its color to green.\n",
        "data_leganes = cinturon_sur_ds[cinturon_sur_ds['level5'] == \"Leganés\"]\n",
        "axes[0, 1].hist(data_leganes['normalized_price'], bins=10, color='green', edgecolor='black')\n",
        "axes[0, 1].set_title('Leganés')\n",
        "axes[0, 1].set_xlabel('Normalized Price')\n",
        "axes[0, 1].set_ylabel('Frequency')\n",
        "\n",
        "# Plot histogram for Getafe, set its color to red.\n",
        "subset_getafe = cinturon_sur_ds[cinturon_sur_ds['level5'] == \"Getafe\"]\n",
        "axes[1, 0].hist(subset_getafe['normalized_price'], bins=10, color='red', edgecolor='black')\n",
        "axes[1, 0].set_title('Getafe')\n",
        "axes[1, 0].set_xlabel('Normalized Price')\n",
        "axes[1, 0].set_ylabel('Frequency')\n",
        "\n",
        "# Plot histogram for Alcorcón, set its color to orange.\n",
        "subset_alcorcon = cinturon_sur_ds[cinturon_sur_ds['level5'] == \"Alcorcón\"]\n",
        "axes[1, 1].hist(subset_alcorcon['normalized_price'], bins=10, color='orange', edgecolor='black')\n",
        "axes[1, 1].set_title('Alcorcón')\n",
        "axes[1, 1].set_xlabel('Normalized Price')\n",
        "axes[1, 1].set_ylabel('Frequency')\n",
        "\n",
        "plt.show()\n",
        "\n",
        "\n"
      ]
    },
    {
      "attachments": {},
      "cell_type": "markdown",
      "id": "precise-heavy",
      "metadata": {},
      "source": [
        "We identify a common tendecy with the skewness, all of them being right-skewed, indicating that most of the properties have prices towards the lower end of the normalized price scale. Therefore, diplaying that lower-priced properties are more common in these areas."
      ]
    },
    {
      "attachments": {},
      "cell_type": "markdown",
      "id": "patent-jonathan",
      "metadata": {},
      "source": [
        "#### Ejercicio 19. ¿Qué puedes decir sobre el precio por metro cuadrado (precio/m2) entre los municipios de 'Getafe' y 'Alcorcón'? Debes usar el subconjunto obtenido en la pregunta 14 (★★☆)\n",
        "\n",
        "Pista: Crea una nueva columna llamada `pps` (price per square en inglés) y luego analiza los valores"
      ]
    },
    {
      "cell_type": "code",
      "execution_count": 21,
      "id": "initial-liverpool",
      "metadata": {},
      "outputs": [
        {
          "name": "stdout",
          "output_type": "stream",
          "text": [
            "The average price per square meter in Getafe is 2174.59 €, and in Alcorcón is: 2239.3 €\n"
          ]
        }
      ],
      "source": [
        "# We use the new_ds dataframe we used earlier to calculate the pps, and generate the variables gt and al.\n",
        "gt_ds = new_ds[new_ds[\"level5\"] == \"Getafe\"]\n",
        "al_ds = new_ds[new_ds[\"level5\"] == \"Alcorcón\"]\n",
        "\n",
        "# We calculate the average per square meter for Getafe and Alcorcón.\n",
        "avg_gt_ds = round(gt_ds[\"pps\"].mean(),2)\n",
        "avg_al_ds = round(al_ds[\"pps\"].mean(),2)\n",
        "\n",
        "\n",
        "print(f'The average price per square meter in Getafe is {avg_gt_ds} €, and in Alcorcón is: {avg_al_ds} €')"
      ]
    },
    {
      "cell_type": "markdown",
      "id": "d07e7ccc",
      "metadata": {},
      "source": [
        "When comparing the square meter price in Getafe and Alcorcón with Valdemorillo and Galapagar, it is evident that prices are significantly higher. This indicates a higher demand in these areas, likely due to greater development and closer proximity to urban centers."
      ]
    },
    {
      "attachments": {},
      "cell_type": "markdown",
      "id": "enhanced-moscow",
      "metadata": {},
      "source": [
        "#### Ejercicio 20. Realiza el mismo gráfico para 4 poblaciones diferentes (columna level5) y colócalos en el mismo gráfico. Debes usar el subconjunto obtenido en la pregunta 14 (★★☆) \n",
        "Pista: Haz un diagrama de dispersión de cada población usando subgráficos (subplots)."
      ]
    },
    {
      "cell_type": "code",
      "execution_count": 22,
      "id": "accepting-airfare",
      "metadata": {},
      "outputs": [
        {
          "data": {
            "image/png": "[encoded data removed]",
            "text/plain": [
              "<Figure size 1200x1000 with 4 Axes>"
            ]
          },
          "metadata": {},
          "output_type": "display_data"
        }
      ],
      "source": [
        "\n",
        "\n",
        "# We define the number of subplots, its organisation and the size of the scatter plots.\n",
        "fig, axes = plt.subplots(nrows=2, ncols=2, figsize=(12, 10))\n",
        "\n",
        "# We calculate the frequency for Fuenlabrada and create a scatter plot, set its color to blue.\n",
        "data_fuenlabrada = cinturon_sur_ds[cinturon_sur_ds['level5'] == \"Fuenlabrada\"]\n",
        "freq_fuenlabrada = data_fuenlabrada['normalized_price'].value_counts().reset_index()\n",
        "freq_fuenlabrada.columns = ['normalized_price', 'frequency']\n",
        "axes[0, 0].scatter(freq_fuenlabrada['normalized_price'], freq_fuenlabrada['frequency'], color='blue')\n",
        "axes[0, 0].set_title('Fuenlabrada')\n",
        "axes[0, 0].set_xlabel('Normalized Price')\n",
        "axes[0, 0].set_ylabel('Frequency')\n",
        "\n",
        "# We calculate the frequency for Leganés and create a scatter plot, set its color to green.\n",
        "data_leganes = cinturon_sur_ds[cinturon_sur_ds['level5'] == \"Leganés\"]\n",
        "freq_leganes = data_leganes['normalized_price'].value_counts().reset_index()\n",
        "freq_leganes.columns = ['normalized_price', 'frequency']\n",
        "axes[0, 1].scatter(freq_leganes['normalized_price'], freq_leganes['frequency'], color='green')\n",
        "axes[0, 1].set_title('Leganés')\n",
        "axes[0, 1].set_xlabel('Normalized Price')\n",
        "axes[0, 1].set_ylabel('Frequency')\n",
        "\n",
        "# We calculate the frequency for Getafe and create a scatter plot, set its color to red.\n",
        "data_getafe = cinturon_sur_ds[cinturon_sur_ds['level5'] == \"Getafe\"]\n",
        "freq_getafe = data_getafe['normalized_price'].value_counts().reset_index()\n",
        "freq_getafe.columns = ['normalized_price', 'frequency']\n",
        "axes[1, 0].scatter(freq_getafe['normalized_price'], freq_getafe['frequency'], color='red')\n",
        "axes[1, 0].set_title('Getafe')\n",
        "axes[1, 0].set_xlabel('Normalized Price')\n",
        "axes[1, 0].set_ylabel('Frequency')\n",
        "\n",
        "# We calculate the frequency for Alcorcón and create a scatter plot, set its color to orange.\n",
        "data_alcorcon = cinturon_sur_ds[cinturon_sur_ds['level5'] == \"Alcorcón\"]\n",
        "freq_alcorcon = data_alcorcon['normalized_price'].value_counts().reset_index()\n",
        "freq_alcorcon.columns = ['normalized_price', 'frequency']\n",
        "axes[1, 1].scatter(freq_alcorcon['normalized_price'], freq_alcorcon['frequency'], color='orange')\n",
        "axes[1, 1].set_title('Alcorcón')\n",
        "axes[1, 1].set_xlabel('Normalized Price')\n",
        "axes[1, 1].set_ylabel('Frequency')\n",
        "\n",
        "plt.show()\n"
      ]
    },
    {
      "attachments": {},
      "cell_type": "markdown",
      "id": "blocked-effects",
      "metadata": {},
      "source": [
        "#### Ejercicio 21. Realiza un trazado de las coordenadas (columnas latitud y longitud) del cinturón sur de Madrid por color de cada población (debes usar el subconjunto obtenido del Ejercicio 14) (★★★★)\n",
        "\n",
        "Ejecuta la siguiente celda y luego comienza a codear en la siguiente. Debes implementar un código simple que transforme las columnas de coordenadas en un diccionario de Python (agrega más información si es necesario) y agrégala al mapa."
      ]
    },
    {
      "cell_type": "code",
      "execution_count": 23,
      "id": "headed-privacy",
      "metadata": {},
      "outputs": [
        {
          "data": {
            "application/vnd.jupyter.widget-view+json": {
              "model_id": "99962f4631604ac889e9abec93d4370a",
              "version_major": 2,
              "version_minor": 0
            },
            "text/plain": [
              "Map(center=[60, -2.2], controls=(ZoomControl(options=['position', 'zoom_in_text', 'zoom_in_title', 'zoom_out_t…"
            ]
          },
          "execution_count": 23,
          "metadata": {},
          "output_type": "execute_result"
        }
      ],
      "source": [
        "# We include CircleMarker and Polyline for we need them to display the information in the map\n",
        "from ipyleaflet import Map, basemaps,  CircleMarker, Polyline\n",
        "\n",
        "# Mapa centrado en (60 grados latitud y -2.2 grados longitud)\n",
        "# Latitud, longitud\n",
        "center = [60, -2.2]\n",
        "zoom = 2\n",
        "map = Map(center = center, zoom = zoom, min_zoom = 1, max_zoom = 20, \n",
        "    basemap=basemaps.Esri.WorldTopoMap)\n",
        "map"
      ]
    },
    {
      "cell_type": "code",
      "execution_count": 24,
      "id": "present-mistress",
      "metadata": {},
      "outputs": [
        {
          "name": "stdout",
          "output_type": "stream",
          "text": [
            "{'Fuenlabrada': [(40.2853785786438, -3.79508142135624), (40.2744807718156, -3.79192471504211), (40.2906814213562, -3.80405242135624), (40.3152529585, -3.8365174323), (40.2921796, -3.815865), (40.29224, -3.83833), (40.31381, -3.83733), (40.29742, -3.80916), (40.3133562, -3.8360052), (40.27782, -3.80908), (40.2919082135624, -3.82411851356237), (40.31381, -3.83733), (40.2889244, -3.7985458), (40.2837261, -3.7907629), (40.2823585, -3.8061052), (40.2830905213562, -3.80549367864376), (40.296075, -3.80790299999994), (40.2772542, -3.7907283), (40.296075, -3.80790299999994), (40.2772542, -3.7907283), (40.2915427786438, -3.79755132135624), (40.28293, -3.80959), (40.29338, -3.82598), (40.2871968, -3.7917573), (40.2890264864376, -3.81057698643763), (40.2833037, -3.78627316), (40.288330005557, -3.7994911074191), (40.288095391725, -3.8000407415556), (40.28651, -3.78329), (40.2877, -3.80104), (40.29987, -3.80874), (40.27609356, -3.80152655), (40.29287, -3.79943), (40.2758248, -3.7999498), (40.2888528, -3.8221908), (40.2971995999033, -3.83405685424805), (40.2929608592128, -3.8392174243927), (40.2925435170825, -3.83121371269226), (40.2892496970814, -3.81259381771088), (40.2925973931475, -3.78414431610143), (40.2907380864376, -3.79345111356237), (40.27512, -3.80061), (40.2862494, -3.8054465), (40.2738157864376, -3.80253421356237), (40.2919796, -3.813865), (40.2804758, -3.7886023), (40.2897, -3.80039), (40.2752542, -3.7905283), (40.29052, -3.79275), (40.288113, -3.800844), (40.286028, -3.804853), (40.28404, -3.80752), (40.2808183, -3.8083335), (40.29338, -3.82598), (40.28029, -3.80809), (40.2804640280991, -3.78879725933075), (40.2802348570363, -3.80658030509949), (40.283340877313, -3.80265355110168), (40.2835163436148, -3.79826013677064), (40.2852437046111, -3.79868388175964), (40.2933624864376, -3.81011881356237), (40.27908, -3.80925), (40.28479, -3.79011), (40.29269, -3.80311), (40.27748, -3.81045), (40.29849, -3.80975), (40.29387, -3.78821), (40.29338, -3.82598), (40.29338, -3.82598), (40.2756121, -3.7910649), (40.2887913864376, -3.80213348643763), (40.2896797, -3.7973998), (40.287018416, -3.8204841445), (40.28775, -3.81949), (40.2800385786438, -3.78851142135624), (40.2834965, -3.7943644), (40.2819117, -3.7857094), (40.31381, -3.83733), (40.2836586, -3.8072866), (40.29338, -3.82598), (40.27726, -3.80709), (40.2933296, -3.8096706), (40.28186, -3.79819), (40.2859916687012, -3.80190992355347), (40.2889421, -3.80338000000006), (40.29338, -3.82598), (40.29338, -3.82598), (40.29338, -3.82598), (40.283133, -3.790236), (40.29212, -3.83108), (40.28532, -3.79494), (40.28494845, -3.8060085535), (40.281955297, -3.794286131), (40.29305, -3.83638), (40.27635, -3.80027), (40.2853, -3.79436), (40.289733, -3.797771), (40.2889722135624, -3.80187621356237), (40.2913667864376, -3.80326778643763), (40.286478, -3.807777), (40.291526, -3.80371), (40.30049, -3.83739), (40.28382, -3.80151), (40.2820357864376, -3.80247578643763), (40.27817, -3.80604), (40.28069, -3.8052), (40.2756414, -3.7977828), (40.29321, -3.78655), (40.2814139, -3.8065813), (40.2829107, -3.8025311), (40.2814139, -3.8065813), (40.2829107, -3.8025311), (40.29338, -3.82598), (40.2889244, -3.7985458), (40.282, -3.80813), (40.282, -3.80813), (40.29338, -3.82598), (40.29217, -3.79556), (40.299029, -3.810943), (40.278420269286, -3.8088987103865), (40.279938262758, -3.8098724025355), (40.2824903, -3.807421), (40.2970296, -3.8104846), (40.2825819, -3.8070057), (40.28698, -3.7914644), (40.283219, -3.7918147), (40.2923318, -3.8386229), (40.2820833864376, -3.80207588643763), (40.2832782, -3.7864969), (40.2764598939, -3.7862125907), (40.2877367, -3.798948), (40.29011, -3.78833), (40.29335, -3.78428), (40.29337, -3.78961), (40.290905192578, -3.7964129778185), (40.286776166148, -3.7965785676235), (40.28893, -3.78419), (40.2891349826874, -3.80264944605351), (40.2896842, -3.7974099), (40.28286, -3.81475), (40.2764028, -3.8004914), (40.29072, -3.8043), (40.2926049, -3.795537), (40.282445, -3.8085), (40.287, -3.7996), (40.2840309143066, -3.79483008384705), (40.2887913864376, -3.8021334864376), (40.28676, -3.79802), (40.2896842, -3.7974099), (40.2982677986069, -3.80819644795653), (40.29011, -3.78833), (40.2941899, -3.8092835), (40.2922401, -3.8015042), (40.2928257, -3.8349063), (40.28529, -3.79408), (40.28286, -3.80121), (40.28265, -3.79985), (40.2807, -3.79143), (40.29058, -3.78839), (40.30023, -3.80875), (40.28709, -3.80728), (40.29274, -3.7896), (40.30428, -3.83748), (40.2934187, -3.7824559), (40.28162, -3.78693), (40.29674, -3.7987), (40.28037, -3.79333), (40.29387, -3.78821), (40.277956, -3.809874), (40.29, -3.80921), (40.31407, -3.83809), (40.3010733, -3.8353401), (40.28245, -3.80848), (40.2946, -3.7962), (40.2965, -3.79922), (40.2913667864376, -3.80326778643763), (40.27563, -3.79886), (40.29019, -3.79215), (40.28486, -3.83738), (40.2820453965836, -3.80216837862613), (40.2865158, -3.8050723), (40.28084, -3.79721), (40.31361, -3.83733), (40.28682, -3.79437), (40.28661, -3.78978), (40.2831823, -3.7904124), (40.28818, -3.81198), (40.2843, -3.79544), (40.28086, -3.80998), (40.2744744, -3.80489250000005), (40.2748257864376, -3.79980721356237), (40.295285090629, -3.8354148269737), (40.31381, -3.83733), (40.31381, -3.83733), (40.2882193, -3.8098617), (40.28282, -3.78892), (40.28062, -3.79869)], 'Alcorcón': [(40.35059, -3.82693), (40.3313411, -3.8313868), (40.3526, -3.81587), (40.3546326213562, -3.80197422135624), (40.34949, -3.83127), (40.34608, -3.82316), (40.3446968786438, -3.82185872135624), (40.3525293490715, -3.81249633026123), (40.3453965786438, -3.82416582135624), (40.3453965786438, -3.82416582135624), (40.3541132, -3.8009789), (40.3494952, -3.8193922), (40.34368, -3.8455), (40.3314905686438, -3.82336329135624), (40.3470842135624, -3.81097578643763), (40.3442916870117, -3.82681002807617), (40.3489999, -3.82822), (40.34368, -3.8455), (40.3467875, -3.8301848), (40.33163199, -3.82342187), (40.34438, -3.82546), (40.347495990297, -3.8217114947359), (40.345881470732, -3.8105465372741), (0.0, 0.0), (40.34362, -3.82534), (40.34559, -3.82172), (40.3469313664376, -3.83183956356237), (40.3470069724376, -3.82310920943763), (40.34444980446, -3.816518944703), (40.34307648046, -3.8272440218029), (40.3485743497314, -3.82804765150163), (40.33757, -3.83304), (40.3447687130376, -3.83498738426237), (40.3392951184, -3.8344010008), (40.35064, -3.8228), (40.3375861704, -3.8333786122), (40.3464199, -3.8294138), (40.3430768, -3.8414216), (40.35131, -3.83347), (40.34454, -3.82844), (40.34645, -3.83122), (40.34879, -3.83085), (40.35331, -3.79921), (40.34913, -3.82771), (40.34438, -3.82546), (40.34368, -3.8455), (40.34775, -3.82853), (40.33143199, -3.82322187), (40.34368, -3.8455), (40.34749, -3.84128), (40.34257, -3.84485), (40.3513, -3.82849), (40.33854, -3.85619), (40.3478556971546, -3.82424283527373), (40.33457, -3.83658), (40.34323, -3.82894), (40.35541, -3.82059), (40.35022, -3.82184), (40.34484, -3.83016), (40.34851, -3.82673), (40.34879, -3.82935), (40.34749, -3.82339), (40.3535169, -3.8664683), (40.34841, -3.82877), (40.34288, -3.83289), (40.34218, -3.82431), (40.3498685786438, -3.80460857864376), (40.354, -3.80057), (40.343363079834, -3.84367609024048), (40.3466873, -3.8291539), (40.343363079834, -3.84367609024048), (40.3466873, -3.8291539), (40.34797, -3.83064), (40.34438, -3.82546), (40.34737, -3.82447), (40.3354997, -3.8557201), (40.34368, -3.8455), (40.3461, -3.8216869), (40.34368, -3.8455), (40.34368, -3.8455), (40.34438, -3.82546), (40.34368, -3.8455), (40.32936015, -3.82449841), (40.343452, -3.8255215), (40.34396, -3.82553), (40.3519318, -3.8184971), (40.34438, -3.82546), (40.34438, -3.82546), (40.34438, -3.82546), (40.3465199864376, -3.83168351356237), (40.34368, -3.8455), (40.34028, -3.81981), (40.333266378437, -3.8308672118658), (40.3506246, -3.83166800000004), (40.35541, -3.82059), (40.34888169, -3.8273082), (40.34120434, -3.81590858), (40.345947283775, -3.8258840503082), (40.3509298371, -3.8148375712), (40.3430341495, -3.8269158555), (40.350753, -3.8294167), (40.34102, -3.82785), (40.3509298371, -3.8148375712), (40.3430341495, -3.8269158555), (40.350753, -3.8294167), (40.34102, -3.82785), (40.34368, -3.8455), (40.34368, -3.8455), (40.32936015, -3.82449841), (40.34438, -3.82546), (40.336755744937, -3.8547774793093), (40.34639, -3.8213), (40.34438, -3.82546), (40.33746, -3.85598), (40.34768, -3.82749), (40.35499, -3.81911), (40.35427, -3.80184), (40.34327, -3.82435), (40.3448916, -3.8233388), (40.35109, -3.82622), (40.35042, -3.81984), (40.34438, -3.82546), (40.34438, -3.82546), (40.34438, -3.82546), (40.341978, -3.8435586), (40.3438274, -3.8245606), (40.33726, -3.85598), (40.34252, -3.8256), (40.33671, -3.83373), (40.343705210773, -3.8246052988763), (40.3425103, -3.81683384), (40.34783, -3.80671), (40.34645, -3.82717), (40.35069, -3.81703), (40.34795, -3.83126), (40.35541, -3.82059), (40.34449, -3.8288), (40.3376, -3.85603), (40.34739, -3.82403), (40.34438, -3.82546), (40.335, -3.855), (40.35145, -3.82898), (40.33898, -3.83529), (40.33443, -3.84057), (40.35478, -3.81963), (40.34461, -3.8257), (40.35466, -3.81574), (40.3434837, -3.8255195), (40.34702, -3.80664), (40.34009, -3.83637), (40.35306, -3.81159), (40.34639, -3.81489), (40.34576, -3.82895), (40.3424, -3.83005), (40.3359653, -3.8277845), (40.3402489, -3.8258232), (40.32831978, -3.82342198), (40.34519, -3.82946), (40.33546, -3.85598), (40.3473615287, -3.8281633365), (40.3416428, -3.82531010000002), (40.350214341, -3.821837461), (40.35472, -3.81054), (40.35223, -3.81732), (40.34635, -3.8236), (40.33746, -3.85598), (40.33551964, -3.8349888), (40.34372, -3.8157), (40.34484, -3.83016), (40.35382, -3.80028), (40.35541, -3.82059), (40.3522, -3.80279), (40.344393, -3.839799)], 'Leganés': [(40.31933, -3.77574), (40.356919, -3.77769), (40.3274, -3.77152), (40.3142811864376, -3.79168641356237), (40.32124, -3.7798), (40.35524, -3.78003), (40.33686, -3.75523), (40.33252, -3.77006), (40.3164257864376, -3.77228421356237), (40.3216444213562, -3.78003122135624), (40.3342649, -3.7708315), (40.3155378864376, -3.78935761356239), (40.3341242135624, -3.77088421356237), (40.33238, -3.77167), (40.3324438, -3.7692378), (40.34179, -3.77388), (40.32124, -3.7798), (40.344788, -3.7414642), (40.3205313786438, -3.75509212135624), (40.3205154213562, -3.75540942135624), (40.343175, -3.781201), (40.343375, -3.781001), (40.343375, -3.781001), (40.343175, -3.780801), (40.3321035, -3.7549885), (40.3207914213562, -3.75518142135624), (40.3074935, -3.78635829999996), (40.3128454, -3.78585959999998), (40.33655, -3.77874), (40.33621, -3.75287), (40.32953, -3.75011), (40.33422, -3.76264), (40.32873, -3.75612), (40.3388, -3.74981), (40.3360541, -3.74927409999998), (40.334721, -3.751087), (40.333254, -3.7565717), (40.32049, -3.77969), (40.3362852, -3.7388189), (40.3322342135624, -3.77201421356237), (40.32131, -3.75912), (40.3299051, -3.76318), (40.33727, -3.7454), (40.3238357864376, -3.76423421356237), (40.32246, -3.7837), (40.33475, -3.7507), (40.35512, -3.77858), (40.32359, -3.76952), (40.33423, -3.74847), (40.33238, -3.75385), (40.33138, -3.74716), (40.33423, -3.74847), (40.33251, -3.76091), (40.3432624, -3.780075), (40.33731, -3.7748487), (40.35679, -3.77956), (40.35679, -3.77956), (40.32739, -3.76408), (40.3291, -3.75182), (40.3459851, -3.744779), (40.3326157, -3.7526299), (40.3234, -3.77152), (40.32828, -3.76646), (40.34348, -3.77794), (40.35314, -3.7852), (40.33727, -3.7454), (40.33745, -3.74144), (40.3309657864376, -3.77108421356237), (40.3136954, -3.7902722), (40.33595, -3.75278), (40.3148063472576, -3.7859058380127), (40.32489, -3.77267), (40.3358557864376, -3.75089421356237), (40.3318, -3.75931), (40.3366733113739, -3.74195404234641), (40.3364895, -3.7405455), (40.33011, -3.76489), (40.33011, -3.76489), (40.3193033445857, -3.77997059253031), (40.341175, -3.781001), (40.33727, -3.7454), (40.32489, -3.77267), (40.3326157, -3.7526299), (40.33527, -3.74948), (40.32321, -3.77126), (40.32404566, -3.77137011), (40.3329, -3.75306), (40.3323, -3.768598), (40.3578021841515, -3.77895983765465), (40.3323, -3.768598), (40.3578021841515, -3.77895983765465), (40.335, -3.76732), (40.33329, -3.75607), (40.3345834, -3.7420251), (40.32275, -3.76969), (40.356133, -3.781143), (40.341175, -3.781001), (40.3335821864376, -3.76873891356237), (40.3344698, -3.7556483), (40.3337657864376, -3.76824421356237), (40.3337657864376, -3.76824421356237), (40.34536, -3.74371), (40.32303, -3.76101), (40.33829, -3.74589), (40.3599654864376, -3.77977721356237), (40.3143312, -3.7894115), (40.3284118326652, -3.76477807760239), (40.3284118326652, -3.76477807760239), (40.33609706, -3.76855838), (40.32455, -3.77172), (40.31719, -3.77119), (40.3551815490723, -3.77932000160217), (40.3423636291504, -3.74814414978027), (40.35634535, -3.7765983), (40.35741, -3.77827), (40.32343, -3.76604), (40.3318, -3.75931), (40.33595, -3.75278), (40.33527, -3.74948), (40.31917, -3.75643), (40.33562, -3.75553), (40.3457876, -3.74066417), (40.3148063472576, -3.7859058380127), (40.32828, -3.76646), (40.33441, -3.75434), (40.339, -3.75199), (40.317586, -3.755019), (40.328601, -3.763826), (40.320355, -3.777929), (40.319574, -3.755102), (40.319444, -3.753672), (40.315913, -3.756759), (40.33008, -3.76646), (40.33218, -3.74921), (40.3574064, -3.7782684), (40.3300242041513, -3.76550231421688), (40.3201063, -3.7586646), (40.33806, -3.75135), (40.331329, -3.770181), (40.3310724737636, -3.77000578078649), (40.32458, -3.77367), (40.32739, -3.76408), (40.33727, -3.7454), (40.3241157864376, -3.77127578643763), (40.3278234, -3.7630715), (40.3335821864376, -3.76873891356237), (40.3303391, -3.7544003), (40.32901, -3.75009), (40.3234, -3.77152), (40.34538, -3.77261), (40.323754187848, -3.7730788126493), (40.33595, -3.75278), (40.3543087740551, -3.78119683423338), (40.33163, -3.74655), (40.32811, -3.76988), (40.3194273, -3.7546246), (40.3208104, -3.78076959999998), (40.32845, -3.76772), (40.33643, -3.75089), (40.32845, -3.76772), (40.33643, -3.75089), (40.33595, -3.75278), (40.32746, -3.76821), (40.33383, -3.75547), (40.3337657864376, -3.76824421356237), (40.3337657864376, -3.76824421356237), (40.33132, -3.76054), (40.3210413, -3.779803), (40.3366, -3.74658), (40.33177, -3.773), (40.33422, -3.76264), (40.3571804504395, -3.78049993515015), (40.32314, -3.78143), (40.3337657864376, -3.76824421356237), (40.32124, -3.7798), (40.3259051, -3.76318)], 'Getafe': [(40.31111, -3.73066), (40.3060558, -3.7346649), (40.3035689, -3.7381336), (40.3068987, -3.725108), (40.28327, -3.74772), (40.3034957864376, -3.72721421356237), (40.30779, -3.73801), (40.30184, -3.72799), (40.30091, -3.73093), (40.30635, -3.72887), (40.3220051387, -3.7130324135), (40.3153084, -3.7324561), (40.3012757864376, -3.72873421356237), (40.3218, -3.71263), (40.3262, -3.73377), (40.30353, -3.73817), (40.3117642135624, -3.71427578643763), (40.31313, -3.71922), (40.3099157864376, -3.72196421356237), (40.30005, -3.73323), (40.3014614213562, -3.73946142135624), (40.3061746135624, -3.73762418643763), (40.3159134, -3.7272536), (40.30206, -3.73321), (40.31667, -3.74072), (40.3119888305664, -3.72591996192932), (40.32947, -3.72937), (40.3300714213562, -3.73209857864376), (40.30206, -3.73321), (40.3300714213562, -3.73209857864376), (40.30206, -3.73321), (40.3175029, -3.7229835), (40.31072, -3.73017), (40.31072, -3.73017), (0.0, 0.0), (40.3298114213562, -3.72922857864376), (40.3300714213562, -3.73209857864376), (40.32635, -3.72974), (40.32635, -3.72974), (40.31667, -3.74072), (40.30566, -3.75295), (40.309815, -3.715394), (40.30785, -3.72048), (40.308054, -3.721986), (40.309815, -3.715394), (40.30785, -3.72048), (40.308054, -3.721986), (0.0, 0.0), (40.302820239187, -3.7281704612835), (40.309481, -3.730291), (40.309481, -3.730291), (40.30871, -3.74713), (40.3151, -3.72027), (40.31093, -3.71703), (40.30011, -3.7337), (40.30958, -3.73939), (40.32793, -3.73224), (40.32635, -3.72974), (40.30546, -3.75275), (40.30206, -3.73321), (40.3120728, -3.7315907), (40.31072, -3.73017), (40.31667, -3.74072), (40.31667, -3.74072), (40.31295, -3.72903), (40.3076893328, -3.7335333825), (40.3179637337, -3.7241576949), (40.31468, -3.73029), (40.3164, -3.72351), (40.30201, -3.73096), (40.32188, -3.7137), (40.30733, -3.73803), (40.30809, -3.73853), (40.31376, -3.7209), (40.3116, -3.72493), (40.3226783, -3.7312807), (40.3122542135624, -3.72538421356237), (40.3139235, -3.7211553), (40.31195, -3.72177), (40.3071, -3.7259), (40.31594, -3.72034), (40.3079548245211, -3.73173594474792), (40.30011, -3.73112), (40.30234, -3.73357), (40.28449, -3.75385), (40.30206, -3.73321), (40.32635, -3.72974), (40.30206, -3.73321), (40.32635, -3.72974), (40.31667, -3.74072), (40.3161134, -3.7272536), (40.30186, -3.73321), (40.31072, -3.73017), (40.30546, -3.75275), (40.32635, -3.72974), (40.3161134, -3.7272536), (40.31004, -3.7284), (40.2887738, -3.7436436), (40.31143337, -3.71537812), (40.32635, -3.72974), (40.32635, -3.72974), (40.32635, -3.72974), (40.32446, -3.71776), (40.32446, -3.71776), (40.31296, -3.72078), (40.3161134, -3.7272536), (40.31667, -3.74072), (40.30546, -3.75275), (40.31072, -3.73017), (40.30206, -3.73321), (40.31667, -3.74072), (40.307803, -3.714596), (40.308843, -3.715955), (40.30607, -3.7348), (40.29867, -3.74804), (40.313970835286, -3.7178172600122), (40.3086311, -3.7223487), (40.32635, -3.72974), (40.3225429, -3.732149), (40.3225429, -3.732149), (40.3225429, -3.732149), (40.31043, -3.72942), (40.32635, -3.72974), (40.30206, -3.73321), (40.30206, -3.73321), (40.31667, -3.74072), (40.31667, -3.74072), (40.31072, -3.73017), (40.30973, -3.71763), (40.3186747864376, -3.72381678643763), (40.3186747864376, -3.72381678643763), (40.30485, -3.73806), (40.3054397, -3.73865030000002), (40.310909, -3.7303591), (40.3103782, -3.7295262), (0.0, 0.0), (40.2985657864376, -3.73475421356237), (40.31321, -3.72212), (40.31368, -3.72077), (40.31321, -3.72212), (40.31368, -3.72077), (40.31321, -3.72212), (40.31368, -3.72077), (40.31259, -3.72246), (40.32635, -3.72974), (40.32635, -3.72974), (40.31072, -3.73017), (40.31572, -3.72119), (40.31667, -3.74072), (40.30546, -3.75275), (40.31667, -3.74072), (40.30206, -3.73321), (40.30186, -3.73321), (40.28871, -3.75019), (40.28871, -3.75019), (40.30206, -3.73321), (40.31667, -3.74072), (40.31667, -3.74072), (40.32635, -3.72974), (40.32635, -3.72974), (40.3079, -3.72964), (40.30546, -3.75275), (40.30186, -3.73321), (0.0, 0.0), (40.3139, -3.71888), (40.3144, -3.73279), (40.30186, -3.73321), (40.31667, -3.74072), (40.30186, -3.73321), (40.31667, -3.74072), (40.30186, -3.73321), (40.31667, -3.74072), (40.32546, -3.73121), (40.31033, -3.71785), (40.31767, -3.72494), (40.300709, -3.733316), (40.300251, -3.731819), (40.3187663, -3.71462710000003), (40.30606, -3.73466), (40.2833081169234, -3.75334990326103), (0.0, 0.0), (40.3028614213562, -3.73534857864376), (40.3062504, -3.7323934), (40.31229, -3.71814), (40.30186, -3.73321), (40.3218194, -3.7116497), (40.31845, -3.72532), (40.3080504, -3.7323934), (40.31667, -3.74072), (40.30027, -3.73335), (40.31667, -3.74072), (40.30546, -3.75275), (40.31498, -3.73458), (40.30186, -3.73321), (40.3104154, -3.728483), (40.3121231, -3.7180369), (40.3086963, -3.73855119999996), (40.32672, -3.73453), (40.3127899, -3.7204288), (40.30855, -3.72731), (40.3170797, -3.722955), (40.30507, -3.73091), (40.2851691, -3.7465719), (40.31667, -3.74072), (40.32176, -3.72398), (40.3101, -3.71803), (40.3101, -3.71803), (40.31667, -3.74072), (40.30186, -3.73321), (40.30546, -3.75275), (40.30186, -3.73321), (40.310835, -3.724996), (40.310835, -3.724996), (40.31569687, -3.7211453), (40.3139, -3.71781), (40.3139, -3.71781), (40.30262, -3.7342), (0.0, 0.0), (0.0, 0.0), (0.0, 0.0), (0.0, 0.0), (0.0, 0.0), (40.31672, -3.72254), (40.31428, -3.71706), (40.30546, -3.75275), (40.30206, -3.73321), (40.31667, -3.74072), (40.30186, -3.73321), (40.31667, -3.74072)]}\n"
          ]
        },
        {
          "data": {
            "application/vnd.jupyter.widget-view+json": {
              "model_id": "58e2a183519543b091149575fe048ba6",
              "version_major": 2,
              "version_minor": 0
            },
            "text/plain": [
              "Map(center=[40.31, -3.7], controls=(ZoomControl(options=['position', 'zoom_in_text', 'zoom_in_title', 'zoom_ou…"
            ]
          },
          "execution_count": 24,
          "metadata": {},
          "output_type": "execute_result"
        }
      ],
      "source": [
        "# We readjust the zoom and location to give a closer look.\n",
        "center = [40.31 , -3.7]\n",
        "zoom =  12\n",
        "map = Map(center = center, zoom = zoom, min_zoom = 1, max_zoom = 20, \n",
        "    basemap=basemaps.Esri.WorldTopoMap)\n",
        "\n",
        "# We check there are no NA values or 0 values.\n",
        "cinturon_sur_ds = cinturon_sur_ds.dropna(subset=['latitude', 'longitude'])\n",
        "cinturon_sur_ds = cinturon_sur_ds[(cinturon_sur_ds['latitude'] != 0) & (cinturon_sur_ds['longitude'] != 0)]\n",
        "\n",
        "# We substitute the \",\" for \".\", and avoid errors for running the same code again.\n",
        "if cinturon_sur_ds['latitude'].dtype == 'object':\n",
        "    cinturon_sur_ds['latitude'] = cinturon_sur_ds['latitude'].str.replace(',', '.').astype(float, errors='ignore')\n",
        "\n",
        "if cinturon_sur_ds['longitude'].dtype == 'object':\n",
        "    cinturon_sur_ds['longitude'] = cinturon_sur_ds['longitude'].str.replace(',', '.').astype(float, errors='ignore')\n",
        "\n",
        "# We create the dictionary to introduce the coordinates.\n",
        "coordinates = {}\n",
        "\n",
        "# We create a loop to add the data into the dicctionary, keeping in mind we will have multiple values for the same key.\n",
        "for index, row in cinturon_sur_ds.iterrows():\n",
        "    poblacion = row['level5']\n",
        "    latitude = row['latitude']\n",
        "    longitude = row['longitude']\n",
        "    if poblacion not in coordinates:\n",
        "        coordinates[poblacion] = []\n",
        "    coordinates[poblacion].append((latitude, longitude))\n",
        "\n",
        "# Print the dictionary content to confirm it was added correctly.\n",
        "print(coordinates)\n",
        "\n",
        "# Color dictionary for each poblacion.\n",
        "color_dict = {\n",
        "    'Fuenlabrada': 'blue',\n",
        "    'Leganés': 'green',\n",
        "    'Getafe': 'red',\n",
        "    'Alcorcón': 'purple'\n",
        "}\n",
        "\n",
        "# We add circles on each location, with the colour of its respective poblacion. If there is data with different information from our color_dict, it will display it in black.\n",
        "for poblacion, coords_list in coordinates.items():\n",
        "    color = color_dict.get(poblacion, 'black')\n",
        "    for coords in coords_list:\n",
        "        circle_marker = CircleMarker(\n",
        "            location=coords,\n",
        "            radius=5,  \n",
        "            color=color,\n",
        "            fill=True,\n",
        "            fill_color=color,\n",
        "            fill_opacity=0.6,\n",
        "            title=poblacion\n",
        "        )\n",
        "        map.add_layer(circle_marker)\n",
        "\n",
        "    # We connect the dots for their locations with the same color.\n",
        "    polyline = Polyline(\n",
        "        locations=coords_list,\n",
        "        color=color,  \n",
        "        weight=1,\n",
        "        opacity=1\n",
        "    )\n",
        "    map.add_layer(polyline)\n",
        "\n",
        "# We display the map.\n",
        "map"
      ]
    }
  ],
  "metadata": {
    "kernelspec": {
      "display_name": "Python 3",
      "language": "python",
      "name": "python3"
    },
    "language_info": {
      "codemirror_mode": {
        "name": "ipython",
        "version": 3
      },
      "file_extension": ".py",
      "mimetype": "text/x-python",
      "name": "python",
      "nbconvert_exporter": "python",
      "pygments_lexer": "ipython3",
      "version": "3.11.4"
    }
  },
  "nbformat": 4,
  "nbformat_minor": 5
}
